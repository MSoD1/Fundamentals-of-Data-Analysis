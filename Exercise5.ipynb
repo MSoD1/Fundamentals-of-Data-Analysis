{
  "metadata": {
    "language_info": {
      "codemirror_mode": {
        "name": "python",
        "version": 3
      },
      "file_extension": ".py",
      "mimetype": "text/x-python",
      "name": "python",
      "nbconvert_exporter": "python",
      "pygments_lexer": "ipython3",
      "version": "3.8"
    },
    "kernelspec": {
      "name": "python",
      "display_name": "Python (Pyodide)",
      "language": "python"
    }
  },
  "nbformat_minor": 4,
  "nbformat": 4,
  "cells": [
    {
      "cell_type": "markdown",
      "source": "## Week 05\n### Exercise 1\n*Write a Python function to remove all non-alphanumeric characters from a string.*",
      "metadata": {}
    },
    {
      "cell_type": "code",
      "source": "import numpy as np",
      "metadata": {
        "trusted": true
      },
      "execution_count": 2,
      "outputs": []
    },
    {
      "cell_type": "code",
      "source": "import pandas as pd",
      "metadata": {
        "trusted": true
      },
      "execution_count": 3,
      "outputs": []
    },
    {
      "cell_type": "code",
      "source": "import re",
      "metadata": {
        "trusted": true
      },
      "execution_count": 15,
      "outputs": []
    },
    {
      "cell_type": "code",
      "source": "my_str = 'one !two@ three'",
      "metadata": {
        "trusted": true
      },
      "execution_count": 16,
      "outputs": []
    },
    {
      "cell_type": "markdown",
   "source": "<div style=\"text-align: justify\">A simple solution is to use regular expressions for removing non-alphanumeric characters from a string. The idea is to use the special character \\W, which matches any character which is not a word character.</div>",
      "metadata": {}
    },
    {
      "cell_type": "code",
      "source": "new_str = re.sub(r'[\\W_]', '', my_str)\nprint(new_str)",
      "metadata": {
        "trusted": true
      },
      "execution_count": 17,
      "outputs": [
        {
          "name": "stdout",
          "text": "onetwothree\n",
          "output_type": "stream"
        }
      ]
    },
    {
      "cell_type": "code",
      "source": "new_str = re.sub(r'[^\\w\\s]', '', my_str)\nprint(new_str) ",
      "metadata": {
        "trusted": true
      },
      "execution_count": 18,
      "outputs": [
        {
          "name": "stdout",
          "text": "one two three\n",
          "output_type": "stream"
        }
      ]
    },
    {
      "cell_type": "markdown",
   "source": "<div style=\"text-align: justify\">Another option is to filter the string that matches with the isalnum() function. It returns true if all characters in the string are alphanumeric, false otherwise.</div>",
      "metadata": {}
    },
    {
      "cell_type": "code",
      "source": "new_str = ''.join(char for char in my_str if char.isalnum())\nprint(new_str)",
      "metadata": {
        "trusted": true
      },
      "execution_count": 19,
      "outputs": [
        {
          "name": "stdout",
          "text": "onetwothree\n",
          "output_type": "stream"
        }
      ]
    },
    {
      "cell_type": "code",
      "source": "new_str = ''.join(char for char in my_str if char.isalnum() or char == ' ')\nprint(new_str)",
      "metadata": {
        "trusted": true
      },
      "execution_count": 20,
      "outputs": [
        {
          "name": "stdout",
          "text": "one two three\n",
          "output_type": "stream"
        }
      ]
    },
   {
      "cell_type": "markdown",
      "source": "### Exercise 2\n*Adapt the above code (in notes) to capitalise the first letter of the iris species, using regular expressions.*",
      "metadata": {}
    },
    {
      "cell_type": "code",
      "source": "data = pd.read_csv(\"iris_dataset_lowercase.csv\")",
      "metadata": {
        "trusted": true
      },
      "execution_count": 193,
      "outputs": []
    },
    {
      "cell_type": "markdown",
 "source": "<div style=\"text-align: justify\">Load the iris dataset with lowercase iris variety type. The first method used is applying title() to the dataset. The title() method returns a string where the first character in every word is upper case. Like a header, or a title.</div>",
      "metadata": {}
    },
    {
      "cell_type": "code",
      "source": "data_uppercase = data.variety.str.title()\nprint(data_uppercase)",
      "metadata": {
        "trusted": true
      },
      "execution_count": 194,
      "outputs": [
        {
          "name": "stdout",
          "text": "0         Iris-Setosa\n1         Iris-Setosa\n2         Iris-Setosa\n3         Iris-Setosa\n4         Iris-Setosa\n            ...      \n145    Iris-Virginica\n146    Iris-Virginica\n147    Iris-Virginica\n148    Iris-Virginica\n149    Iris-Virginica\nName: variety, Length: 150, dtype: object\n",
          "output_type": "stream"
        }
      ]
    },
    {
      "cell_type": "markdown",
 "source": "<div style=\"text-align: justify\">The second method looks at regular expression. To replace lowercase with uppercase we need two aspects <br/> 1). A regular expression pattern that matches all lowercase letters\n <br/> 2). And the replacement function will convert matched lowercase letters to uppercase.</div>",
      "metadata": {}
    },
    {
      "cell_type": "code",
      "source": "# replacement function to convert uppercase letter to lowercase\ndef convert_to_upper(match_obj):\n    if match_obj.group() is not None:\n        return match_obj.group().upper()",
      "metadata": {
        "trusted": true
      },
      "execution_count": 195,
      "outputs": []
    },
    {
      "cell_type": "code",
      "source": "# pass replacement function to re.sub()\n# The pattern to replace is lowercase letters hence (a-z) is used.\nres_str = re.sub(r\"-([a-z])\" ,convert_to_upper, str(data))",
      "metadata": {
        "trusted": true
      },
      "execution_count": 196,
      "outputs": []
    },
    {
      "cell_type": "code",
      "source": "print(res_str)",
      "metadata": {
        "trusted": true
      },
      "execution_count": 197,
      "outputs": [
        {
          "name": "stdout",
          "text": "     sepal.length  sepal.width  petal.length  petal.width         variety\n0             5.1          3.5           1.4          0.2     Iris-Setosa\n1             4.9          3.0           1.4          0.2     Iris-Setosa\n2             4.7          3.2           1.3          0.2     Iris-Setosa\n3             4.6          3.1           1.5          0.2     Iris-Setosa\n4             5.0          3.6           1.4          0.2     Iris-Setosa\n..            ...          ...           ...          ...             ...\n145           6.7          3.0           5.2          2.3  Iris-Virginica\n146           6.3          2.5           5.0          1.9  Iris-Virginica\n147           6.5          3.0           5.2          2.0  Iris-Virginica\n148           6.2          3.4           5.4          2.3  Iris-Virginica\n149           5.9          3.0           5.1          1.8  Iris-Virginica\n\n[150 rows x 5 columns]\n",
          "output_type": "stream"
        }
      ]
    },
    {
      "cell_type": "code",
      "source": "",
      "metadata": {},
      "execution_count": null,
      "outputs": []
    }
  ]
}
