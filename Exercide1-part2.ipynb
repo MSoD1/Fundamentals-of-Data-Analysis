{
  "metadata": {
    "language_info": {
      "file_extension": ".sqlite3-console",
      "mimetype": "text/x-sqlite3-console",
      "name": "sqlite3",
      "version": "0.4.0"
    },
    "kernelspec": {
      "name": "python",
      "display_name": "Python (Pyodide)",
      "language": "python"
    }
  },
  "nbformat_minor": 4,
  "nbformat": 4,
  "cells": [
    {
      "cell_type": "markdown",
      "source": "## Exercise 2\n*Explain why the log of zero is undefined.*",
      "metadata": {}
    },
    {
      "cell_type": "markdown",
      "source": "The real logarithmic function log<sub>b</sub>(x) is defined only for x>0.\n\nWe can't find a number x, so the base b raised to the power of x is equal to zero:\n\nb<sub>x</sub>= 0 , x does not exist\n\nSo the base b logarithm of zero is not defined.\n\nlog<sub>b</sub>(0) is not defined\n\nFor example the base 10 logarithm of 0 is not defined:\n\nlog<sub>10</sub>(0) is not defined\n\nThe limit of the base b logarithm of x, when x approaches zero from the positive side (0+), is minus infinity:\n\n$\\lim_{x \\to 0^+}$  log<sub>b</sub> x = - $\\infty$",
      "metadata": {}
    }
  ]
}