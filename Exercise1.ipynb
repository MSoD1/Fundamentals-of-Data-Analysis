{
 "cells": [
  {
   "cell_type": "markdown",
   "id": "4cdac31d",
   "metadata": {},
   "source": [
    "## Exercise 1\n",
    "*Adapt the code above to generate a 1000 character long string with weights based on the previous two characters.*"
   ]
  },
  {
   "cell_type": "code",
   "execution_count": 1,
   "id": "c455711b",
   "metadata": {},
   "outputs": [],
   "source": [
    "#Import Libraries\n",
    "import random\n",
    "import urllib.request"
   ]
  },
  {
   "cell_type": "code",
   "execution_count": 2,
   "id": "85c328bb",
   "metadata": {},
   "outputs": [],
   "source": [
    "# The URL of a text version of Alice in Wonderland.\n",
    "book_url = 'https://www.gutenberg.org/files/11/11-0.txt'"
   ]
  },
  {
   "cell_type": "code",
   "execution_count": 3,
   "id": "22b279cb",
   "metadata": {},
   "outputs": [],
   "source": [
    "# Get the book.\n",
    "book = list(urllib.request.urlopen(book_url))"
   ]
  },
  {
   "cell_type": "code",
   "execution_count": 4,
   "id": "272fef5a",
   "metadata": {},
   "outputs": [],
   "source": [
    "# Decode the lines and strip line endings.\n",
    "book = [line.decode('utf-8-sig').strip() for line in book]"
   ]
  },
  {
   "cell_type": "code",
   "execution_count": 5,
   "id": "94ef587d",
   "metadata": {},
   "outputs": [],
   "source": [
    "# Get a sample paragraph - I looked for this by hand.\n",
    "paragraph = ' '.join(book[58:63])"
   ]
  },
  {
   "cell_type": "code",
   "execution_count": 6,
   "id": "6d892e18",
   "metadata": {},
   "outputs": [],
   "source": [
    "alice = paragraph.lower()"
   ]
  },
  {
   "cell_type": "code",
   "execution_count": 7,
   "id": "a2844487",
   "metadata": {},
   "outputs": [],
   "source": [
    "# All letters and a space.\n",
    "chars = 'abcdefghijklmnopqrstuvwxyz '"
   ]
  },
  {
   "cell_type": "code",
   "execution_count": 8,
   "id": "e51a13ea",
   "metadata": {},
   "outputs": [],
   "source": [
    "# And strip anything that is not a letter or space.\n",
    "alice = ''.join([c for c in alice if c in chars])"
   ]
  },
  {
   "cell_type": "code",
   "execution_count": 9,
   "id": "1b65fc08",
   "metadata": {},
   "outputs": [],
   "source": [
    "# Get the length of alice.\n",
    "N = len(alice)"
   ]
  },
  {
   "cell_type": "code",
   "execution_count": 10,
   "id": "093cdca0",
   "metadata": {},
   "outputs": [],
   "source": [
    "# Get the whole book in one big string.\n",
    "sbook = ''.join(book[26:]).lower()\n"
   ]
  },
  {
   "cell_type": "code",
   "execution_count": 11,
   "id": "fbbc4caa",
   "metadata": {},
   "outputs": [],
   "source": [
    "## This contains a dictionary c= chars and each of the values is another dictortionary d\n",
    "### ie go through the list of char twice... aa,ab,ac,ad...ba,bb,bc\n",
    "twoghts = {c: {d:  sbook.count(c + d )  for d in chars} for c in chars}"
   ]
  },
  {
   "cell_type": "code",
   "execution_count": 12,
   "id": "21b9c215",
   "metadata": {},
   "outputs": [],
   "source": [
    "pairs = 'th'"
   ]
  },
  {
   "cell_type": "code",
   "execution_count": 17,
   "id": "0caaeeb7",
   "metadata": {},
   "outputs": [],
   "source": [
    "# Do the following N-1 times.\n",
    "for i in range(1, 1000):\n",
    "    # Get the weights where the previous character is the last character in twos.\n",
    "    wt = twoghts[pairs[-2]]\n",
    "    # Turn wt into a list, ordered by chars.\n",
    "    wt = [wt[c] for c in chars]\n",
    "    # Randomly pick the next character using those weights.\n",
    "    nextc = random.choices(chars, weights=wt, k=1)[0]\n",
    "    # Append the character to twos.\n",
    "    pairs = pairs + nextc"
   ]
  },
{
      "cell_type": "markdown",
      "source": "## Exercise 2\n*Explain why the log of zero is undefined.*",
      "metadata": {}
    },
    {
      "cell_type": "markdown",
      "source": "The real logarithmic function log<sub>b</sub>(x) is defined only for x>0.\n\nWe can't find a number x, so the base b raised to the power of x is equal to zero:\n\nb<sub>x</sub>= 0 , x does not exist\n\nSo the base b logarithm of zero is not defined.\n\nlog<sub>b</sub>(0) is not defined\n\nFor example the base 10 logarithm of 0 is not defined:\n\nlog<sub>10</sub>(0) is not defined\n\nThe limit of the base b logarithm of x, when x approaches zero from the positive side (0+), is minus infinity:\n\n$\\lim_{x \\to 0^+}$  log<sub>b</sub> x = - $\\infty$",
      "metadata": {}
    }
    ]
}
