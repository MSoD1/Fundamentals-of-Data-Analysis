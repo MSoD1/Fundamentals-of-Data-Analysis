{
 "cells": [
  {
   "cell_type": "markdown",
   "id": "4cdac31d",
   "metadata": {},
   "source": [
    "## Exercise 1\n",
    "*Adapt the code above to generate a 1000 character long string with weights based on the previous two characters.*"
   ]
  },
  {
   "cell_type": "code",
   "execution_count": 1,
   "id": "c455711b",
   "metadata": {},
   "outputs": [],
   "source": [
    "#Import Libraries\n",
    "import random\n",
    "import urllib.request"
   ]
  },
  {
   "cell_type": "code",
   "execution_count": 2,
   "id": "85c328bb",
   "metadata": {},
   "outputs": [],
   "source": [
    "# The URL of a text version of Alice in Wonderland.\n",
    "book_url = 'https://www.gutenberg.org/files/11/11-0.txt'"
   ]
  },
  {
   "cell_type": "code",
   "execution_count": 3,
   "id": "22b279cb",
   "metadata": {},
   "outputs": [],
   "source": [
    "# Get the book.\n",
    "book = list(urllib.request.urlopen(book_url))"
   ]
  },
  {
   "cell_type": "code",
   "execution_count": 4,
   "id": "272fef5a",
   "metadata": {},
   "outputs": [],
   "source": [
    "# Decode the lines and strip line endings.\n",
    "book = [line.decode('utf-8-sig').strip() for line in book]"
   ]
  },
  {
   "cell_type": "code",
   "execution_count": 5,
   "id": "94ef587d",
   "metadata": {},
   "outputs": [],
   "source": [
    "# Get a sample paragraph - I looked for this by hand.\n",
    "paragraph = ' '.join(book[58:63])"
   ]
  },
  {
   "cell_type": "code",
   "execution_count": 6,
   "id": "6d892e18",
   "metadata": {},
   "outputs": [],
   "source": [
    "alice = paragraph.lower()"
   ]
  },
  {
   "cell_type": "code",
   "execution_count": 7,
   "id": "a2844487",
   "metadata": {},
   "outputs": [],
   "source": [
    "# All letters and a space.\n",
    "chars = 'abcdefghijklmnopqrstuvwxyz '"
   ]
  },
  {
   "cell_type": "code",
   "execution_count": 8,
   "id": "e51a13ea",
   "metadata": {},
   "outputs": [],
   "source": [
    "# And strip anything that is not a letter or space.\n",
    "alice = ''.join([c for c in alice if c in chars])"
   ]
  },
  {
   "cell_type": "code",
   "execution_count": 9,
   "id": "1b65fc08",
   "metadata": {},
   "outputs": [],
   "source": [
    "# Get the length of alice.\n",
    "N = len(alice)"
   ]
  },
  {
   "cell_type": "code",
   "execution_count": 10,
   "id": "093cdca0",
   "metadata": {},
   "outputs": [],
   "source": [
    "# Get the whole book in one big string.\n",
    "sbook = ''.join(book[26:]).lower()\n"
   ]
  },
  {
   "cell_type": "code",
   "execution_count": 11,
   "id": "fbbc4caa",
   "metadata": {},
   "outputs": [],
   "source": [
    "## This contains a dictionary c= chars and each of the values is another dictortionary d\n",
    "### ie go through the list of char twice... aa,ab,ac,ad...ba,bb,bc\n",
    "twoghts = {c: {d:  sbook.count(c + d )  for d in chars} for c in chars}"
   ]
  },
  {
   "cell_type": "code",
   "execution_count": 12,
   "id": "21b9c215",
   "metadata": {},
   "outputs": [],
   "source": [
    "pairs = 'th'"
   ]
  },
  {
   "cell_type": "code",
   "execution_count": 17,
   "id": "0caaeeb7",
   "metadata": {},
   "outputs": [],
   "source": [
    "# Do the following N-1 times.\n",
    "for i in range(1, 1000):\n",
    "    # Get the weights where the previous character is the last character in twos.\n",
    "    wt = twoghts[pairs[-2]]\n",
    "    # Turn wt into a list, ordered by chars.\n",
    "    wt = [wt[c] for c in chars]\n",
    "    # Randomly pick the next character using those weights.\n",
    "    nextc = random.choices(chars, weights=wt, k=1)[0]\n",
    "    # Append the character to twos.\n",
    "    pairs = pairs + nextc"
   ]
  },
 {
   "cell_type": "markdown",
   "id": "881c8d81",
   "metadata": {},
   "source": [
    "## Exercise 2:\n",
    "*Explain why the log of zero is undefined.*"
   ]
  },
  {
   "cell_type": "markdown",
   "id": "5b7f0ab0",
   "metadata": {},
   "source": [
    "log 0 is undefined. It's not a real number, because you can never get zero by raising anything to the power of anything else. You can never reach zero, you can only approach it using an infinitely large and negative power.The limit of the base b logarithm of x, when x approaches zero from the positive side (0+), is minus infinity:<br/>\n",
    "\n",
    "$\\displaystyle \\lim_{x \\to 0^+}$ log<sub>b</sub> x = -$\\infty$<br/>\n",
    "\n",
    "**i)** base > 0 ;  $\\neq 0 $ ; $\\neq$ 1 ; $\\neq$ negative  <br/>\n",
    "**ii)** Arguement > 0 ; log<sub>b</sub> a = x ; a = b<sub>x</sub>  <br/>\n",
    " <br/>\n",
    "**Example 1:** <br/>\n",
    "    log<sub>0</sub>2 = x ; 2 $\\neq$ 0<sup>x</sup> <br/> \n",
    "    $\\therefore$ base $\\neq$ 0  <br/>\n",
    " <br/>\n",
    "**Example 2:** <br/>\n",
    "  log<sub>1</sub>2 = x ; 2 $\\neq$ 1<sup>x</sup>  <br/>\n",
    "    $\\therefore$ base $\\neq$ 1  <br/>\n",
    "     <br/>\n",
    "**Example 3:** <br/>\n",
    "  log<sub>-3</sub>a = $\\frac{1}{2}$ ;  a =  -3<sup>$\\frac{1}{2}$</sup> ; a =  $\\sqrt{-3}$  <br/>\n",
    "    $\\therefore$ $\\neq$ real number  <br/>\n",
    "     <br/>\n",
    "**Example 4:** <br/>\n",
    "  log<sub>b</sub>0 = x  ; 0 = b<sup>x</sup>  <br/>\n",
    "    $\\therefore$ log<sub>b</sub>0 is undefined <br/>\n",
    "     <br/>\n",
    "**Example 5:** <br/>\n",
    "  log<sub>b</sub>-a = x ; -a = b<sup>x</sup>  <br/>\n",
    "    $\\therefore$ Any base number and x will never result in a negative arguement. <br/>\n"
   ]
  },
  {
   "cell_type": "markdown",
   "id": "1146bbe9",
   "metadata": {},
   "source": [
    "#### References:\n",
    "* https://www.rapidtables.com/math/algebra/logarithm/Logarithm_of_0.html\n",
    "* https://www.thehealthyjournal.com/faq/why-log-0-is-undefined\n",
    "* https://www.vedantu.com/maths/value-of-log-0"
   ]
  },
  {
   "cell_type": "code",
   "execution_count": null,
   "id": "5dd2f1d7",
   "metadata": {},
   "outputs": [],
   "source": []
  }
 ],
 "metadata": {
  "kernelspec": {
   "display_name": "Python 3 (ipykernel)",
   "language": "python",
   "name": "python3"
  },
  "language_info": {
   "codemirror_mode": {
    "name": "ipython",
    "version": 3
   },
   "file_extension": ".py",
   "mimetype": "text/x-python",
   "name": "python",
   "nbconvert_exporter": "python",
   "pygments_lexer": "ipython3",
   "version": "3.7.12"
  }
 },
 "nbformat": 4,
 "nbformat_minor": 5
}
